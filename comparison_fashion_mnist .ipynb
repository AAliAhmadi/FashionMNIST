{
 "cells": [
  {
   "cell_type": "code",
   "execution_count": null,
   "id": "930b3f24",
   "metadata": {},
   "outputs": [],
   "source": []
  },
  {
   "cell_type": "code",
   "execution_count": null,
   "id": "6c3e4d15",
   "metadata": {},
   "outputs": [],
   "source": [
    "import sys\n",
    "import torch\n",
    "import argparse\n",
    "\n",
    "# Ensure the path to `main.py` is correct\n",
    "sys.path.append('.')  # Add the directory containing `main.py`\n",
    "\n",
    "# Now import the main function from `main.py`\n",
    "from main import main  # Assuming main.py contains the `main` function\n",
    "\n",
    "# Set up the argument parser as it would be done in the `main.py`\n",
    "parser = argparse.ArgumentParser()\n",
    "parser.add_argument('--model', choices=['rnn', 'cnn'], default='cnn')\n",
    "parser.add_argument('--batch_size', type=int, default=64)\n",
    "parser.add_argument('--hidden_size', type=int, default=128)\n",
    "parser.add_argument('--num_layers', type=int, default=2)\n",
    "parser.add_argument('--epochs', type=int, default=5)\n",
    "parser.add_argument('--lr', type=float, default=1e-3)\n",
    "parser.add_argument('--val_split', type=float, default=0.1)\n",
    "parser.add_argument('--device', type=str, default=('cuda' if torch.cuda.is_available() else 'cpu'))\n",
    "parser.add_argument('--use_svm', action='store_true', help=\"Include SVM in sklearn baselines (slow)\")\n",
    "\n",
    "# If you want to include SVM, add '--use_svm' to the argument list like args = parser.parse_args([--use_svm])\n",
    "#args = parser.parse_args([--use_svm])\n",
    "\n",
    "#else, omit it to not use svm, like:\n",
    "args = parser.parse_args([])  #not include svm\n",
    "\n",
    "# Call the main function with the parsed arguments\n",
    "main(args)\n"
   ]
  },
  {
   "cell_type": "code",
   "execution_count": null,
   "id": "eba082f5",
   "metadata": {},
   "outputs": [],
   "source": []
  }
 ],
 "metadata": {
  "kernelspec": {
   "display_name": "Python 3 (ipykernel)",
   "language": "python",
   "name": "python3"
  },
  "language_info": {
   "codemirror_mode": {
    "name": "ipython",
    "version": 3
   },
   "file_extension": ".py",
   "mimetype": "text/x-python",
   "name": "python",
   "nbconvert_exporter": "python",
   "pygments_lexer": "ipython3",
   "version": "3.11.4"
  }
 },
 "nbformat": 4,
 "nbformat_minor": 5
}
