{
 "cells": [
  {
   "cell_type": "code",
   "execution_count": 1,
   "metadata": {},
   "outputs": [],
   "source": [
    "import torch\n",
    "import torch.nn as nn\n",
    "import torchvision\n",
    "import torchvision.transforms as transforms"
   ]
  },
  {
   "cell_type": "code",
   "execution_count": 39,
   "metadata": {},
   "outputs": [],
   "source": [
    "hidden_size= 128\n",
    "num_classes= 10\n",
    "num_epochs= 3\n",
    "batch_size= 100\n",
    "learning_rate= .001\n",
    "input_size= 28\n",
    "sequence_length= 28\n",
    "num_layers= 2"
   ]
  },
  {
   "cell_type": "code",
   "execution_count": 3,
   "metadata": {},
   "outputs": [],
   "source": [
    "train_dataset= torchvision.datasets.FashionMNIST(root='', train= True, transform= transforms.ToTensor())"
   ]
  },
  {
   "cell_type": "code",
   "execution_count": 4,
   "metadata": {},
   "outputs": [
    {
     "data": {
      "text/plain": [
       "Dataset FashionMNIST\n",
       "    Number of datapoints: 60000\n",
       "    Root location: \n",
       "    Split: Train"
      ]
     },
     "execution_count": 4,
     "metadata": {},
     "output_type": "execute_result"
    }
   ],
   "source": [
    "train_dataset"
   ]
  },
  {
   "cell_type": "code",
   "execution_count": 6,
   "metadata": {},
   "outputs": [
    {
     "data": {
      "image/png": "[encoded data removed]",
      "text/plain": [
       "<Figure size 432x288 with 1 Axes>"
      ]
     },
     "metadata": {
      "needs_background": "light"
     },
     "output_type": "display_data"
    }
   ],
   "source": [
    "import matplotlib.pyplot as plt\n",
    "z, _ = train_dataset[7000]\n",
    "plt.imshow(z.numpy()[0], cmap='gray')\n",
    "plt.show()"
   ]
  },
  {
   "cell_type": "code",
   "execution_count": 7,
   "metadata": {},
   "outputs": [],
   "source": [
    "train_loader= torch.utils.data.DataLoader(dataset= train_dataset, batch_size= batch_size, shuffle= True )"
   ]
  },
  {
   "cell_type": "code",
   "execution_count": 8,
   "metadata": {},
   "outputs": [],
   "source": [
    "test_dataset= torchvision.datasets.FashionMNIST(root='', train= False, transform= transforms.ToTensor())\n",
    "test_loader= torch.utils.data.DataLoader(dataset= test_dataset, shuffle= False)"
   ]
  },
  {
   "cell_type": "code",
   "execution_count": 9,
   "metadata": {},
   "outputs": [
    {
     "data": {
      "text/plain": [
       "device(type='cpu')"
      ]
     },
     "execution_count": 9,
     "metadata": {},
     "output_type": "execute_result"
    }
   ],
   "source": [
    "device= torch.device('cuda' if torch.cuda.is_available() else 'cpu')\n",
    "device"
   ]
  },
  {
   "cell_type": "code",
   "execution_count": 40,
   "metadata": {},
   "outputs": [],
   "source": [
    "class RNN(nn.Module):\n",
    "    def __init__(self, input_size, hidden_size, num_layers, num_classes):\n",
    "        super(RNN, self).__init__()\n",
    "        self.num_layers= num_layers\n",
    "        self.hidden_size= hidden_size\n",
    "        self.rnn= nn.RNN(input_size, hidden_size, num_layers, batch_first= True)\n",
    "        #input should be in the shape: [batch size, seq, input size]\n",
    "        self.fc= nn.Linear(hidden_size, num_classes)\n",
    "        \n",
    "    def forward(self, x):\n",
    "        #initial hidden shape\n",
    "        h0= torch.zeros(self.num_layers, x.size(0), self.hidden_size).to(device)\n",
    "        out, _ = self.rnn(x, h0)\n",
    "        #output shape= [batch_size, seq_size, hidden_size]\n",
    "        #out (N, 28, 128)\n",
    "        #we have to reshape it before giving to fc layer\n",
    "        out= out[:, -1, :]\n",
    "        #out(N, 128)\n",
    "        out= self.fc(out)\n",
    "        return out\n",
    "\n",
    "        \n",
    "model= RNN(input_size, hidden_size, num_layers, num_classes).to(device)"
   ]
  },
  {
   "cell_type": "code",
   "execution_count": 41,
   "metadata": {},
   "outputs": [],
   "source": [
    "criterion= nn.CrossEntropyLoss()\n",
    "optimizer= torch.optim.Adam(model.parameters(), lr= learning_rate)\n"
   ]
  },
  {
   "cell_type": "code",
   "execution_count": 42,
   "metadata": {},
   "outputs": [
    {
     "name": "stdout",
     "output_type": "stream",
     "text": [
      "epochs:[1/3],step:[1/600],loss:2.2913\n",
      "epochs:[2/3],step:[1/600],loss:0.7588\n",
      "epochs:[3/3],step:[1/600],loss:0.7475\n"
     ]
    }
   ],
   "source": [
    "n_total_steps= len(train_loader)\n",
    "for epoch in range(num_epochs):\n",
    "    \n",
    "    for i, (images, labels) in enumerate(train_loader):\n",
    "        images= images.reshape(-1, sequence_length, input_size).to(device)\n",
    "        labels= labels.to(device)\n",
    "        \n",
    "        #forward pass\n",
    "        outputs= model(images)\n",
    "        loss= criterion(outputs, labels)\n",
    "        \n",
    "        #backward and optimize\n",
    "        optimizer.zero_grad()\n",
    "        loss.backward()\n",
    "        optimizer.step()\n",
    "        if i / 100 == 0:\n",
    "            print(f'epochs:[{epoch+1}/{num_epochs}],step:[{i+1}/{n_total_steps}],loss:{loss.item():.4f}')"
   ]
  },
  {
   "cell_type": "code",
   "execution_count": 43,
   "metadata": {},
   "outputs": [
    {
     "name": "stdout",
     "output_type": "stream",
     "text": [
      "accuarcy of RNN of 10000 test images is: 78.26 %\n"
     ]
    }
   ],
   "source": [
    "#TEST THE MODEL\n",
    "with torch.no_grad():\n",
    "    n_correct= 0\n",
    "    n_samples= 0\n",
    "    for images, labels in test_loader:\n",
    "        images= images.reshape(-1,sequence_length, input_size).to(device)\n",
    "        labels= labels.to(device)\n",
    "        outputs= model(images)\n",
    "        \n",
    "        #max return value\n",
    "        _, predicted= torch.max(outputs.data, 1)\n",
    "        n_samples+= labels.size(0)\n",
    "        n_correct+= (predicted==labels).sum().item()\n",
    "    acc= 100*n_correct/n_samples\n",
    "    print(f'accuarcy of RNN of 10000 test images is: {acc} %')"
   ]
  },
  {
   "cell_type": "code",
   "execution_count": 44,
   "metadata": {},
   "outputs": [],
   "source": [
    "import pandas as pd\n",
    "import numpy as np \n",
    "import matplotlib.pyplot as plt\n",
    "import random"
   ]
  },
  {
   "cell_type": "code",
   "execution_count": 45,
   "metadata": {},
   "outputs": [],
   "source": [
    "x1, y1 = train_dataset.data, train_dataset.targets"
   ]
  },
  {
   "cell_type": "code",
   "execution_count": 46,
   "metadata": {},
   "outputs": [
    {
     "data": {
      "text/plain": [
       "(torch.Tensor, torch.Tensor)"
      ]
     },
     "execution_count": 46,
     "metadata": {},
     "output_type": "execute_result"
    }
   ],
   "source": [
    "type(y1), type(x1)"
   ]
  },
  {
   "cell_type": "code",
   "execution_count": 47,
   "metadata": {},
   "outputs": [],
   "source": [
    "import numpy as np\n",
    "w1= x1.numpy()\n",
    "t1= y1.numpy()"
   ]
  },
  {
   "cell_type": "code",
   "execution_count": 48,
   "metadata": {},
   "outputs": [
    {
     "data": {
      "text/plain": [
       "((60000, 28, 28), (60000,))"
      ]
     },
     "execution_count": 48,
     "metadata": {},
     "output_type": "execute_result"
    }
   ],
   "source": [
    "w1.shape, t1.shape"
   ]
  },
  {
   "cell_type": "code",
   "execution_count": 49,
   "metadata": {},
   "outputs": [
    {
     "data": {
      "text/plain": [
       "(60000, 784)"
      ]
     },
     "execution_count": 49,
     "metadata": {},
     "output_type": "execute_result"
    }
   ],
   "source": [
    "nsamples, nx, ny = w1.shape\n",
    "z1 = w1.reshape((nsamples,nx*ny))\n",
    "z1.shape"
   ]
  },
  {
   "cell_type": "code",
   "execution_count": 50,
   "metadata": {},
   "outputs": [],
   "source": [
    "from sklearn.tree import DecisionTreeClassifier\n",
    "from sklearn.linear_model import LogisticRegression\n",
    "from sklearn.ensemble import RandomForestClassifier\n",
    "from sklearn.svm import SVC\n",
    "from sklearn.naive_bayes import GaussianNB\n",
    "from sklearn.discriminant_analysis import LinearDiscriminantAnalysis\n",
    "from sklearn.ensemble import AdaBoostClassifier"
   ]
  },
  {
   "cell_type": "code",
   "execution_count": 52,
   "metadata": {},
   "outputs": [],
   "source": [
    "models= {'DTC': DecisionTreeClassifier(), 'NB': GaussianNB(), 'LDA': LinearDiscriminantAnalysis(),\n",
    "         'RFC': RandomForestClassifier(), 'AdaB':AdaBoostClassifier()}"
   ]
  },
  {
   "cell_type": "code",
   "execution_count": null,
   "metadata": {},
   "outputs": [],
   "source": [
    "models"
   ]
  },
  {
   "cell_type": "code",
   "execution_count": 53,
   "metadata": {},
   "outputs": [],
   "source": [
    "a0, b0=  test_dataset.data, test_dataset.targets\n"
   ]
  },
  {
   "cell_type": "code",
   "execution_count": 54,
   "metadata": {},
   "outputs": [
    {
     "data": {
      "text/plain": [
       "((10000, 784), (10000,))"
      ]
     },
     "execution_count": 54,
     "metadata": {},
     "output_type": "execute_result"
    }
   ],
   "source": [
    "a11= a0.numpy()\n",
    "b1= b0.numpy()\n",
    "nsamples, nx, ny = a11.shape\n",
    "a1 = a11.reshape((nsamples,nx*ny))\n",
    "a1.shape, b1.shape"
   ]
  },
  {
   "cell_type": "code",
   "execution_count": 63,
   "metadata": {},
   "outputs": [
    {
     "name": "stdout",
     "output_type": "stream",
     "text": [
      "DTC 0.7891\n",
      "NB 0.5856\n",
      "LDA 0.8151\n",
      "RFC 0.8531\n",
      "AdaB 0.5425\n"
     ]
    }
   ],
   "source": [
    "results= []\n",
    "names= []\n",
    "for name, model in models.items():\n",
    "    model.fit(z1, t1)\n",
    "    test_score= model.score(a1, b1)\n",
    "    results.append(test_score)\n",
    "    names.append(name)\n",
    "    print(name, test_score)  "
   ]
  },
  {
   "cell_type": "code",
   "execution_count": 100,
   "metadata": {},
   "outputs": [],
   "source": [
    "result= results[0:5]\n",
    "name= names[0:5]"
   ]
  },
  {
   "cell_type": "code",
   "execution_count": 101,
   "metadata": {},
   "outputs": [],
   "source": [
    "ac= round(acc/100, 4)\n",
    "result.append(ac)\n",
    "name.append('RNN')"
   ]
  },
  {
   "cell_type": "code",
   "execution_count": 102,
   "metadata": {},
   "outputs": [
    {
     "data": {
      "text/plain": [
       "([0.7891, 0.5856, 0.8151, 0.8531, 0.5425, 0.7826],\n",
       " ['DTC', 'NB', 'LDA', 'RFC', 'AdaB', 'RNN'])"
      ]
     },
     "execution_count": 102,
     "metadata": {},
     "output_type": "execute_result"
    }
   ],
   "source": [
    "result, name"
   ]
  },
  {
   "cell_type": "code",
   "execution_count": 105,
   "metadata": {},
   "outputs": [
    {
     "data": {
      "text/plain": [
       "Text(0.5, 1.0, 'Comparions')"
      ]
     },
     "execution_count": 105,
     "metadata": {},
     "output_type": "execute_result"
    },
    {
     "data": {
      "image/png": "[encoded data removed]",
      "text/plain": [
       "<Figure size 432x288 with 1 Axes>"
      ]
     },
     "metadata": {
      "needs_background": "light"
     },
     "output_type": "display_data"
    }
   ],
   "source": [
    "plt.scatter(np.arange(1,7), result, color='red')\n",
    "plt.xticks(np.arange(1,7), name)\n",
    "plt.title('Comparions')"
   ]
  },
  {
   "cell_type": "code",
   "execution_count": null,
   "metadata": {},
   "outputs": [],
   "source": []
  }
 ],
 "metadata": {
  "kernelspec": {
   "display_name": "Python 3",
   "language": "python",
   "name": "python3"
  },
  "language_info": {
   "codemirror_mode": {
    "name": "ipython",
    "version": 3
   },
   "file_extension": ".py",
   "mimetype": "text/x-python",
   "name": "python",
   "nbconvert_exporter": "python",
   "pygments_lexer": "ipython3",
   "version": "3.7.4"
  }
 },
 "nbformat": 4,
 "nbformat_minor": 2
}
